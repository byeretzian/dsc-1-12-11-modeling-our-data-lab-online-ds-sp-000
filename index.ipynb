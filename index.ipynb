{
 "cells": [
  {
   "cell_type": "markdown",
   "metadata": {},
   "source": [
    "# Modeling Our Data - Lab"
   ]
  },
  {
   "cell_type": "markdown",
   "metadata": {},
   "source": [
    "## Introduction \n",
    "\n",
    "In this lab we'll perform a full linear regression on our data. We'll take a stepwise approach and we'll try to improve our model as we go."
   ]
  },
  {
   "cell_type": "markdown",
   "metadata": {},
   "source": [
    "## Objectives\n",
    "You will be able to:\n",
    "\n",
    "* Remove predictors with p-values too high and refit the model\n",
    "* Examine and interpret the model results\n",
    "* Split data into training and testing sets\n",
    "* Fit a regression model to the data set using statsmodel library\n"
   ]
  },
  {
   "cell_type": "markdown",
   "metadata": {},
   "source": [
    "## Build single linear regression models\n",
    "\n",
    "From the previous steps, it is pretty clear that we have quite a few predictors, but there are some issues with them. Linearity with the target \"Weekly_Sales\" wasn't apparent. If that's the case, it's always smart to start small, and go ahead and build linear regression models with just one input at the time. Somewhat like what we've done in section 10, let's look at some statistics for single linear regression models for all our *continuous* variables with the outcome.\n",
    "\n",
    "**Note: for now, we will not use holdout validation, as we're just trying to gauge interpretation and a sense of predictive capacity for each of the candidate predictors**"
   ]
  },
  {
   "cell_type": "markdown",
   "metadata": {},
   "source": [
    "### Load the cleaned dataset \"walmart_dataset.csv\", and check its contents "
   ]
  },
  {
   "cell_type": "code",
   "execution_count": 78,
   "metadata": {},
   "outputs": [],
   "source": [
    "import pandas as pd\n",
    "import numpy as np\n",
    "import matplotlib.pyplot as plt"
   ]
  },
  {
   "cell_type": "code",
   "execution_count": 109,
   "metadata": {},
   "outputs": [],
   "source": [
    "df1 = pd.read_csv(\"./walmart_dataset.csv\")"
   ]
  },
  {
   "cell_type": "markdown",
   "metadata": {},
   "source": [
    "Let's pull up the info."
   ]
  },
  {
   "cell_type": "code",
   "execution_count": 110,
   "metadata": {},
   "outputs": [
    {
     "name": "stdout",
     "output_type": "stream",
     "text": [
      "<class 'pandas.core.frame.DataFrame'>\n",
      "Int64Index: 97615 entries, 0 to 97838\n",
      "Columns: 128 entries, Weekly_Sales to log_Weekly_Sales\n",
      "dtypes: bool(1), float64(7), int64(120)\n",
      "memory usage: 95.4 MB\n"
     ]
    }
   ],
   "source": [
    "df.info()\n"
   ]
  },
  {
   "cell_type": "markdown",
   "metadata": {},
   "source": [
    "Note that the output for info is much smaller compared to what we usually see. Because we have so many columns, pandas is intentionally not showing the data types for each column. Let's use `info()` again, but now just on the first 15 columns of the data."
   ]
  },
  {
   "cell_type": "code",
   "execution_count": 111,
   "metadata": {},
   "outputs": [
    {
     "name": "stdout",
     "output_type": "stream",
     "text": [
      "<class 'pandas.core.frame.DataFrame'>\n",
      "Int64Index: 97615 entries, 0 to 97838\n",
      "Data columns (total 15 columns):\n",
      "Weekly_Sales    97615 non-null float64\n",
      "IsHoliday       97615 non-null bool\n",
      "Size            97615 non-null float64\n",
      "Temperature     97615 non-null float64\n",
      "Fuel_Price      97615 non-null float64\n",
      "CPI             97615 non-null float64\n",
      "Unemployment    97615 non-null float64\n",
      "Store_1         97615 non-null int64\n",
      "Store_10        97615 non-null int64\n",
      "Store_2         97615 non-null int64\n",
      "Store_3         97615 non-null int64\n",
      "Store_4         97615 non-null int64\n",
      "Store_5         97615 non-null int64\n",
      "Store_6         97615 non-null int64\n",
      "Store_7         97615 non-null int64\n",
      "dtypes: bool(1), float64(6), int64(8)\n",
      "memory usage: 11.3 MB\n"
     ]
    }
   ],
   "source": [
    "df.iloc[:,:15].info()"
   ]
  },
  {
   "cell_type": "markdown",
   "metadata": {},
   "source": [
    "Remember that all the columns from store_1 onwards are actually dummies, so categorical variables. Because we stored the data and loaded it in again, this information was lost. Let's make sure they become categorical again. You can write a for-loop to do this."
   ]
  },
  {
   "cell_type": "code",
   "execution_count": 112,
   "metadata": {},
   "outputs": [],
   "source": [
    "cols = df.columns.values[7:127]\n",
    "for column_name in cols:\n",
    "    df[column_name] = df[column_name].astype('category')\n"
   ]
  },
  {
   "cell_type": "markdown",
   "metadata": {},
   "source": [
    "Let's make sure IsHoliday is a categorical variable as well."
   ]
  },
  {
   "cell_type": "code",
   "execution_count": 113,
   "metadata": {},
   "outputs": [],
   "source": [
    "df['IsHoliday'] = df['IsHoliday'].astype('category')"
   ]
  },
  {
   "cell_type": "markdown",
   "metadata": {},
   "source": [
    "Let's check the info again to make sure everything is OK now."
   ]
  },
  {
   "cell_type": "code",
   "execution_count": 114,
   "metadata": {},
   "outputs": [
    {
     "name": "stdout",
     "output_type": "stream",
     "text": [
      "<class 'pandas.core.frame.DataFrame'>\n",
      "Int64Index: 97615 entries, 0 to 97838\n",
      "Data columns (total 15 columns):\n",
      "Weekly_Sales    97615 non-null float64\n",
      "IsHoliday       97615 non-null category\n",
      "Size            97615 non-null float64\n",
      "Temperature     97615 non-null float64\n",
      "Fuel_Price      97615 non-null float64\n",
      "CPI             97615 non-null float64\n",
      "Unemployment    97615 non-null float64\n",
      "Store_1         97615 non-null category\n",
      "Store_10        97615 non-null category\n",
      "Store_2         97615 non-null category\n",
      "Store_3         97615 non-null category\n",
      "Store_4         97615 non-null category\n",
      "Store_5         97615 non-null category\n",
      "Store_6         97615 non-null category\n",
      "Store_7         97615 non-null category\n",
      "dtypes: category(9), float64(6)\n",
      "memory usage: 6.1 MB\n"
     ]
    }
   ],
   "source": [
    "df.iloc[:,:15].info()"
   ]
  },
  {
   "cell_type": "markdown",
   "metadata": {},
   "source": [
    "Great! you should see that the datatypes have changed to categories now! If you use `.describe` now, you should see only the remaining continuous variables in the data set."
   ]
  },
  {
   "cell_type": "code",
   "execution_count": 33,
   "metadata": {},
   "outputs": [
    {
     "data": {
      "text/html": [
       "<div>\n",
       "<style scoped>\n",
       "    .dataframe tbody tr th:only-of-type {\n",
       "        vertical-align: middle;\n",
       "    }\n",
       "\n",
       "    .dataframe tbody tr th {\n",
       "        vertical-align: top;\n",
       "    }\n",
       "\n",
       "    .dataframe thead th {\n",
       "        text-align: right;\n",
       "    }\n",
       "</style>\n",
       "<table border=\"1\" class=\"dataframe\">\n",
       "  <thead>\n",
       "    <tr style=\"text-align: right;\">\n",
       "      <th></th>\n",
       "      <th>Weekly_Sales</th>\n",
       "      <th>Size</th>\n",
       "      <th>Temperature</th>\n",
       "      <th>Fuel_Price</th>\n",
       "      <th>CPI</th>\n",
       "      <th>Unemployment</th>\n",
       "    </tr>\n",
       "  </thead>\n",
       "  <tbody>\n",
       "    <tr>\n",
       "      <th>count</th>\n",
       "      <td>97839.000000</td>\n",
       "      <td>9.783900e+04</td>\n",
       "      <td>9.783900e+04</td>\n",
       "      <td>9.783900e+04</td>\n",
       "      <td>9.783900e+04</td>\n",
       "      <td>9.783900e+04</td>\n",
       "    </tr>\n",
       "    <tr>\n",
       "      <th>mean</th>\n",
       "      <td>17223.235591</td>\n",
       "      <td>-8.044340e-14</td>\n",
       "      <td>2.339480e-13</td>\n",
       "      <td>4.784098e-13</td>\n",
       "      <td>-9.181116e-15</td>\n",
       "      <td>1.795967e-12</td>\n",
       "    </tr>\n",
       "    <tr>\n",
       "      <th>std</th>\n",
       "      <td>25288.572553</td>\n",
       "      <td>1.000000e+00</td>\n",
       "      <td>1.000000e+00</td>\n",
       "      <td>1.000000e+00</td>\n",
       "      <td>1.000000e+00</td>\n",
       "      <td>1.000000e+00</td>\n",
       "    </tr>\n",
       "    <tr>\n",
       "      <th>min</th>\n",
       "      <td>-1098.000000</td>\n",
       "      <td>-1.611999e+00</td>\n",
       "      <td>-3.843452e+00</td>\n",
       "      <td>-1.691961e+00</td>\n",
       "      <td>-1.958762e+00</td>\n",
       "      <td>-2.776898e+00</td>\n",
       "    </tr>\n",
       "    <tr>\n",
       "      <th>25%</th>\n",
       "      <td>2336.485000</td>\n",
       "      <td>-1.028620e+00</td>\n",
       "      <td>-7.087592e-01</td>\n",
       "      <td>-1.053793e+00</td>\n",
       "      <td>-1.266966e-01</td>\n",
       "      <td>-6.503157e-01</td>\n",
       "    </tr>\n",
       "    <tr>\n",
       "      <th>50%</th>\n",
       "      <td>7658.280000</td>\n",
       "      <td>2.834360e-01</td>\n",
       "      <td>1.340726e-01</td>\n",
       "      <td>1.180741e-01</td>\n",
       "      <td>4.995210e-01</td>\n",
       "      <td>-4.621274e-02</td>\n",
       "    </tr>\n",
       "    <tr>\n",
       "      <th>75%</th>\n",
       "      <td>20851.275000</td>\n",
       "      <td>1.113495e+00</td>\n",
       "      <td>8.680410e-01</td>\n",
       "      <td>8.243739e-01</td>\n",
       "      <td>6.346144e-01</td>\n",
       "      <td>7.089160e-01</td>\n",
       "    </tr>\n",
       "    <tr>\n",
       "      <th>max</th>\n",
       "      <td>693099.360000</td>\n",
       "      <td>1.171380e+00</td>\n",
       "      <td>1.738375e+00</td>\n",
       "      <td>2.745691e+00</td>\n",
       "      <td>8.517705e-01</td>\n",
       "      <td>2.361469e+00</td>\n",
       "    </tr>\n",
       "  </tbody>\n",
       "</table>\n",
       "</div>"
      ],
      "text/plain": [
       "        Weekly_Sales          Size   Temperature    Fuel_Price           CPI  \\\n",
       "count   97839.000000  9.783900e+04  9.783900e+04  9.783900e+04  9.783900e+04   \n",
       "mean    17223.235591 -8.044340e-14  2.339480e-13  4.784098e-13 -9.181116e-15   \n",
       "std     25288.572553  1.000000e+00  1.000000e+00  1.000000e+00  1.000000e+00   \n",
       "min     -1098.000000 -1.611999e+00 -3.843452e+00 -1.691961e+00 -1.958762e+00   \n",
       "25%      2336.485000 -1.028620e+00 -7.087592e-01 -1.053793e+00 -1.266966e-01   \n",
       "50%      7658.280000  2.834360e-01  1.340726e-01  1.180741e-01  4.995210e-01   \n",
       "75%     20851.275000  1.113495e+00  8.680410e-01  8.243739e-01  6.346144e-01   \n",
       "max    693099.360000  1.171380e+00  1.738375e+00  2.745691e+00  8.517705e-01   \n",
       "\n",
       "       Unemployment  \n",
       "count  9.783900e+04  \n",
       "mean   1.795967e-12  \n",
       "std    1.000000e+00  \n",
       "min   -2.776898e+00  \n",
       "25%   -6.503157e-01  \n",
       "50%   -4.621274e-02  \n",
       "75%    7.089160e-01  \n",
       "max    2.361469e+00  "
      ]
     },
     "execution_count": 33,
     "metadata": {},
     "output_type": "execute_result"
    }
   ],
   "source": [
    "df.describe()"
   ]
  },
  {
   "cell_type": "markdown",
   "metadata": {},
   "source": [
    "### Use a for-loop to look at some results for each linear regression model "
   ]
  },
  {
   "cell_type": "markdown",
   "metadata": {},
   "source": [
    "Let's use ordinary least squares in statsmodels at this stage.\n",
    "Import `statsmodels.formula.api` to get started"
   ]
  },
  {
   "cell_type": "code",
   "execution_count": 115,
   "metadata": {},
   "outputs": [],
   "source": [
    "import statsmodels.api as sm\n",
    "from statsmodels.formula.api import ols\n",
    "obs = []\n",
    "for idx, predictor in enumerate(['Size', 'Temperature', 'Fuel_Price', 'CPI', 'Unemployment']):\n",
    "    f = 'Weekly_Sales' + '~' + predictor\n",
    "    model = ols(formula=f, data=df).fit()\n",
    "    obs.append([predictor, model.rsquared, model.params[0], model.params[1], model.pvalues[1]])"
   ]
  },
  {
   "cell_type": "markdown",
   "metadata": {},
   "source": [
    "Create a loop that for each iteration:\n",
    "* Runs a simple OLS regression between (continuous) independent and dependent variables\n",
    "* Store following values in array for each iteration\n",
    "    * Target variable\n",
    "    * R_squared\n",
    "    * intercept\n",
    "    * slope\n",
    "    * p-value\n",
    "* Comment on each output "
   ]
  },
  {
   "cell_type": "code",
   "execution_count": 116,
   "metadata": {},
   "outputs": [
    {
     "data": {
      "text/plain": [
       "[['Size', 0.08594088654440435, 17261.57429190015, 7416.076796557496, 0.0],\n",
       " ['Temperature',\n",
       "  0.0010191453477883528,\n",
       "  17263.01223501993,\n",
       "  808.086264634102,\n",
       "  1.9301412926726657e-23],\n",
       " ['Fuel_Price',\n",
       "  0.000816220759821018,\n",
       "  17263.203146484375,\n",
       "  722.9029994961836,\n",
       "  4.345051581468386e-19],\n",
       " ['CPI', 0.03965287870374723, 17264.691008692105, -5039.878655590782, 0.0],\n",
       " ['Unemployment',\n",
       "  0.0008781095454686305,\n",
       "  17263.43116817939,\n",
       "  749.9656700103735,\n",
       "  2.03965105709902e-20]]"
      ]
     },
     "execution_count": 116,
     "metadata": {},
     "output_type": "execute_result"
    }
   ],
   "source": [
    "obs"
   ]
  },
  {
   "cell_type": "code",
   "execution_count": null,
   "metadata": {},
   "outputs": [],
   "source": [
    "# The R-squared values are each very low, and each have a P-value of zero."
   ]
  },
  {
   "cell_type": "markdown",
   "metadata": {},
   "source": [
    "Think about your results. \n",
    "- What do the parameter estimates mean? Do they make sense? \n",
    "- What do the p-values tell us?\n",
    "- What does the R-squared tell us?"
   ]
  },
  {
   "cell_type": "markdown",
   "metadata": {},
   "source": [
    "## Our R-squared values are low, let's try to solve this\n",
    "\n",
    "Something we haven't considered before, is taking log-transformations to make certain data less skewed. Let's take a quick look at our summarizing histograms. "
   ]
  },
  {
   "cell_type": "code",
   "execution_count": 117,
   "metadata": {},
   "outputs": [
    {
     "data": {
      "text/plain": [
       "array([[<matplotlib.axes._subplots.AxesSubplot object at 0x11fe3fe80>,\n",
       "        <matplotlib.axes._subplots.AxesSubplot object at 0x10cb734a8>,\n",
       "        <matplotlib.axes._subplots.AxesSubplot object at 0x10cb7d908>],\n",
       "       [<matplotlib.axes._subplots.AxesSubplot object at 0x10cb8fac8>,\n",
       "        <matplotlib.axes._subplots.AxesSubplot object at 0x10f88a198>,\n",
       "        <matplotlib.axes._subplots.AxesSubplot object at 0x10f88a1d0>],\n",
       "       [<matplotlib.axes._subplots.AxesSubplot object at 0x11ab22eb8>,\n",
       "        <matplotlib.axes._subplots.AxesSubplot object at 0x11ab48588>,\n",
       "        <matplotlib.axes._subplots.AxesSubplot object at 0x120732c18>]],\n",
       "      dtype=object)"
      ]
     },
     "execution_count": 117,
     "metadata": {},
     "output_type": "execute_result"
    },
    {
     "data": {
      "image/png": "[encoded data removed]",
      "text/plain": [
       "<Figure size 576x1152 with 9 Axes>"
      ]
     },
     "metadata": {},
     "output_type": "display_data"
    }
   ],
   "source": [
    "df.hist(figsize = (8,16))"
   ]
  },
  {
   "cell_type": "markdown",
   "metadata": {},
   "source": [
    "Interestingly the most problematic variable in terms of skewness seems to be weekly sales itself. Does it make sense to log-transform this variable? It definitely doesn't hurt to try! Let's have a look below. what do you see?"
   ]
  },
  {
   "cell_type": "code",
   "execution_count": 70,
   "metadata": {},
   "outputs": [
    {
     "name": "stderr",
     "output_type": "stream",
     "text": [
      "/Users/byeretzian/anaconda3/lib/python3.6/site-packages/ipykernel_launcher.py:1: RuntimeWarning: divide by zero encountered in log\n",
      "  \"\"\"Entry point for launching an IPython kernel.\n",
      "/Users/byeretzian/anaconda3/lib/python3.6/site-packages/ipykernel_launcher.py:1: RuntimeWarning: invalid value encountered in log\n",
      "  \"\"\"Entry point for launching an IPython kernel.\n"
     ]
    }
   ],
   "source": [
    "df['log_Weekly_Sales'] = np.log(df['Weekly_Sales'])"
   ]
  },
  {
   "cell_type": "markdown",
   "metadata": {},
   "source": [
    "That's right, we have some negative `Weekly_Sales` values! Let's check how many we have."
   ]
  },
  {
   "cell_type": "code",
   "execution_count": 98,
   "metadata": {},
   "outputs": [
    {
     "data": {
      "text/html": [
       "<div>\n",
       "<style scoped>\n",
       "    .dataframe tbody tr th:only-of-type {\n",
       "        vertical-align: middle;\n",
       "    }\n",
       "\n",
       "    .dataframe tbody tr th {\n",
       "        vertical-align: top;\n",
       "    }\n",
       "\n",
       "    .dataframe thead th {\n",
       "        text-align: right;\n",
       "    }\n",
       "</style>\n",
       "<table border=\"1\" class=\"dataframe\">\n",
       "  <thead>\n",
       "    <tr style=\"text-align: right;\">\n",
       "      <th></th>\n",
       "      <th>Weekly_Sales</th>\n",
       "      <th>IsHoliday</th>\n",
       "      <th>Size</th>\n",
       "      <th>Temperature</th>\n",
       "      <th>Fuel_Price</th>\n",
       "      <th>CPI</th>\n",
       "      <th>Unemployment</th>\n",
       "      <th>Store_1</th>\n",
       "      <th>Store_10</th>\n",
       "      <th>Store_2</th>\n",
       "      <th>...</th>\n",
       "      <th>binned_markdown_4_61-80%</th>\n",
       "      <th>binned_markdown_4_81-100%</th>\n",
       "      <th>binned_markdown_4_NaN</th>\n",
       "      <th>binned_markdown_5_0-20%</th>\n",
       "      <th>binned_markdown_5_21-40%</th>\n",
       "      <th>binned_markdown_5_41-60%</th>\n",
       "      <th>binned_markdown_5_61-80%</th>\n",
       "      <th>binned_markdown_5_81-100%</th>\n",
       "      <th>binned_markdown_5_NaN</th>\n",
       "      <th>log_Weekly_Sales</th>\n",
       "    </tr>\n",
       "  </thead>\n",
       "  <tbody>\n",
       "    <tr>\n",
       "      <th>4132</th>\n",
       "      <td>0.0</td>\n",
       "      <td>False</td>\n",
       "      <td>0.283436</td>\n",
       "      <td>-0.656619</td>\n",
       "      <td>0.454191</td>\n",
       "      <td>0.487240</td>\n",
       "      <td>0.595428</td>\n",
       "      <td>1</td>\n",
       "      <td>0</td>\n",
       "      <td>0</td>\n",
       "      <td>...</td>\n",
       "      <td>0</td>\n",
       "      <td>0</td>\n",
       "      <td>1</td>\n",
       "      <td>0</td>\n",
       "      <td>0</td>\n",
       "      <td>0</td>\n",
       "      <td>0</td>\n",
       "      <td>0</td>\n",
       "      <td>1</td>\n",
       "      <td>-inf</td>\n",
       "    </tr>\n",
       "    <tr>\n",
       "      <th>5691</th>\n",
       "      <td>0.0</td>\n",
       "      <td>False</td>\n",
       "      <td>0.283436</td>\n",
       "      <td>1.474811</td>\n",
       "      <td>0.860711</td>\n",
       "      <td>0.528765</td>\n",
       "      <td>0.787484</td>\n",
       "      <td>1</td>\n",
       "      <td>0</td>\n",
       "      <td>0</td>\n",
       "      <td>...</td>\n",
       "      <td>0</td>\n",
       "      <td>0</td>\n",
       "      <td>1</td>\n",
       "      <td>0</td>\n",
       "      <td>0</td>\n",
       "      <td>0</td>\n",
       "      <td>0</td>\n",
       "      <td>0</td>\n",
       "      <td>1</td>\n",
       "      <td>-inf</td>\n",
       "    </tr>\n",
       "    <tr>\n",
       "      <th>5762</th>\n",
       "      <td>0.0</td>\n",
       "      <td>False</td>\n",
       "      <td>0.283436</td>\n",
       "      <td>1.427828</td>\n",
       "      <td>0.669942</td>\n",
       "      <td>0.530529</td>\n",
       "      <td>0.787484</td>\n",
       "      <td>1</td>\n",
       "      <td>0</td>\n",
       "      <td>0</td>\n",
       "      <td>...</td>\n",
       "      <td>0</td>\n",
       "      <td>0</td>\n",
       "      <td>1</td>\n",
       "      <td>0</td>\n",
       "      <td>0</td>\n",
       "      <td>0</td>\n",
       "      <td>0</td>\n",
       "      <td>0</td>\n",
       "      <td>1</td>\n",
       "      <td>-inf</td>\n",
       "    </tr>\n",
       "    <tr>\n",
       "      <th>10732</th>\n",
       "      <td>0.0</td>\n",
       "      <td>False</td>\n",
       "      <td>1.113495</td>\n",
       "      <td>-0.601615</td>\n",
       "      <td>-1.224123</td>\n",
       "      <td>0.397294</td>\n",
       "      <td>1.103504</td>\n",
       "      <td>0</td>\n",
       "      <td>0</td>\n",
       "      <td>1</td>\n",
       "      <td>...</td>\n",
       "      <td>0</td>\n",
       "      <td>0</td>\n",
       "      <td>1</td>\n",
       "      <td>0</td>\n",
       "      <td>0</td>\n",
       "      <td>0</td>\n",
       "      <td>0</td>\n",
       "      <td>0</td>\n",
       "      <td>1</td>\n",
       "      <td>-inf</td>\n",
       "    </tr>\n",
       "    <tr>\n",
       "      <th>18449</th>\n",
       "      <td>0.0</td>\n",
       "      <td>False</td>\n",
       "      <td>1.113495</td>\n",
       "      <td>0.175326</td>\n",
       "      <td>1.435289</td>\n",
       "      <td>0.682742</td>\n",
       "      <td>-0.147479</td>\n",
       "      <td>0</td>\n",
       "      <td>0</td>\n",
       "      <td>1</td>\n",
       "      <td>...</td>\n",
       "      <td>0</td>\n",
       "      <td>0</td>\n",
       "      <td>0</td>\n",
       "      <td>1</td>\n",
       "      <td>0</td>\n",
       "      <td>0</td>\n",
       "      <td>0</td>\n",
       "      <td>0</td>\n",
       "      <td>0</td>\n",
       "      <td>-inf</td>\n",
       "    </tr>\n",
       "    <tr>\n",
       "      <th>28855</th>\n",
       "      <td>0.0</td>\n",
       "      <td>False</td>\n",
       "      <td>-1.571027</td>\n",
       "      <td>1.280003</td>\n",
       "      <td>0.708550</td>\n",
       "      <td>0.805184</td>\n",
       "      <td>-0.633729</td>\n",
       "      <td>0</td>\n",
       "      <td>0</td>\n",
       "      <td>0</td>\n",
       "      <td>...</td>\n",
       "      <td>0</td>\n",
       "      <td>0</td>\n",
       "      <td>0</td>\n",
       "      <td>1</td>\n",
       "      <td>0</td>\n",
       "      <td>0</td>\n",
       "      <td>0</td>\n",
       "      <td>0</td>\n",
       "      <td>0</td>\n",
       "      <td>-inf</td>\n",
       "    </tr>\n",
       "    <tr>\n",
       "      <th>49063</th>\n",
       "      <td>0.0</td>\n",
       "      <td>False</td>\n",
       "      <td>1.116718</td>\n",
       "      <td>-1.026755</td>\n",
       "      <td>-1.585221</td>\n",
       "      <td>0.452078</td>\n",
       "      <td>0.173779</td>\n",
       "      <td>0</td>\n",
       "      <td>0</td>\n",
       "      <td>0</td>\n",
       "      <td>...</td>\n",
       "      <td>0</td>\n",
       "      <td>0</td>\n",
       "      <td>1</td>\n",
       "      <td>0</td>\n",
       "      <td>0</td>\n",
       "      <td>0</td>\n",
       "      <td>0</td>\n",
       "      <td>0</td>\n",
       "      <td>1</td>\n",
       "      <td>-inf</td>\n",
       "    </tr>\n",
       "    <tr>\n",
       "      <th>62459</th>\n",
       "      <td>0.0</td>\n",
       "      <td>False</td>\n",
       "      <td>-1.028620</td>\n",
       "      <td>-2.270089</td>\n",
       "      <td>-0.649544</td>\n",
       "      <td>-0.138876</td>\n",
       "      <td>1.534756</td>\n",
       "      <td>0</td>\n",
       "      <td>0</td>\n",
       "      <td>0</td>\n",
       "      <td>...</td>\n",
       "      <td>0</td>\n",
       "      <td>0</td>\n",
       "      <td>1</td>\n",
       "      <td>0</td>\n",
       "      <td>0</td>\n",
       "      <td>0</td>\n",
       "      <td>0</td>\n",
       "      <td>0</td>\n",
       "      <td>1</td>\n",
       "      <td>-inf</td>\n",
       "    </tr>\n",
       "    <tr>\n",
       "      <th>63877</th>\n",
       "      <td>0.0</td>\n",
       "      <td>False</td>\n",
       "      <td>-1.028620</td>\n",
       "      <td>-0.929924</td>\n",
       "      <td>0.994703</td>\n",
       "      <td>-0.101920</td>\n",
       "      <td>1.340081</td>\n",
       "      <td>0</td>\n",
       "      <td>0</td>\n",
       "      <td>0</td>\n",
       "      <td>...</td>\n",
       "      <td>0</td>\n",
       "      <td>0</td>\n",
       "      <td>1</td>\n",
       "      <td>0</td>\n",
       "      <td>0</td>\n",
       "      <td>0</td>\n",
       "      <td>0</td>\n",
       "      <td>0</td>\n",
       "      <td>1</td>\n",
       "      <td>-inf</td>\n",
       "    </tr>\n",
       "    <tr>\n",
       "      <th>74417</th>\n",
       "      <td>0.0</td>\n",
       "      <td>False</td>\n",
       "      <td>0.344691</td>\n",
       "      <td>1.127021</td>\n",
       "      <td>0.599539</td>\n",
       "      <td>0.626770</td>\n",
       "      <td>-0.554288</td>\n",
       "      <td>0</td>\n",
       "      <td>0</td>\n",
       "      <td>0</td>\n",
       "      <td>...</td>\n",
       "      <td>0</td>\n",
       "      <td>0</td>\n",
       "      <td>1</td>\n",
       "      <td>0</td>\n",
       "      <td>0</td>\n",
       "      <td>0</td>\n",
       "      <td>0</td>\n",
       "      <td>0</td>\n",
       "      <td>1</td>\n",
       "      <td>-inf</td>\n",
       "    </tr>\n",
       "    <tr>\n",
       "      <th>86380</th>\n",
       "      <td>0.0</td>\n",
       "      <td>False</td>\n",
       "      <td>-0.131365</td>\n",
       "      <td>0.918462</td>\n",
       "      <td>0.197561</td>\n",
       "      <td>0.805010</td>\n",
       "      <td>-1.327749</td>\n",
       "      <td>0</td>\n",
       "      <td>0</td>\n",
       "      <td>0</td>\n",
       "      <td>...</td>\n",
       "      <td>0</td>\n",
       "      <td>0</td>\n",
       "      <td>0</td>\n",
       "      <td>1</td>\n",
       "      <td>0</td>\n",
       "      <td>0</td>\n",
       "      <td>0</td>\n",
       "      <td>0</td>\n",
       "      <td>0</td>\n",
       "      <td>-inf</td>\n",
       "    </tr>\n",
       "    <tr>\n",
       "      <th>87716</th>\n",
       "      <td>0.0</td>\n",
       "      <td>False</td>\n",
       "      <td>-0.120313</td>\n",
       "      <td>-0.389618</td>\n",
       "      <td>-0.781266</td>\n",
       "      <td>-1.945919</td>\n",
       "      <td>2.361469</td>\n",
       "      <td>0</td>\n",
       "      <td>1</td>\n",
       "      <td>0</td>\n",
       "      <td>...</td>\n",
       "      <td>0</td>\n",
       "      <td>0</td>\n",
       "      <td>1</td>\n",
       "      <td>0</td>\n",
       "      <td>0</td>\n",
       "      <td>0</td>\n",
       "      <td>0</td>\n",
       "      <td>0</td>\n",
       "      <td>1</td>\n",
       "      <td>-inf</td>\n",
       "    </tr>\n",
       "    <tr>\n",
       "      <th>88836</th>\n",
       "      <td>0.0</td>\n",
       "      <td>False</td>\n",
       "      <td>-0.120313</td>\n",
       "      <td>1.019877</td>\n",
       "      <td>-0.722218</td>\n",
       "      <td>-1.956760</td>\n",
       "      <td>2.151081</td>\n",
       "      <td>0</td>\n",
       "      <td>1</td>\n",
       "      <td>0</td>\n",
       "      <td>...</td>\n",
       "      <td>0</td>\n",
       "      <td>0</td>\n",
       "      <td>1</td>\n",
       "      <td>0</td>\n",
       "      <td>0</td>\n",
       "      <td>0</td>\n",
       "      <td>0</td>\n",
       "      <td>0</td>\n",
       "      <td>1</td>\n",
       "      <td>-inf</td>\n",
       "    </tr>\n",
       "    <tr>\n",
       "      <th>92076</th>\n",
       "      <td>0.0</td>\n",
       "      <td>False</td>\n",
       "      <td>-0.120313</td>\n",
       "      <td>-0.227468</td>\n",
       "      <td>1.884959</td>\n",
       "      <td>-1.879678</td>\n",
       "      <td>1.251910</td>\n",
       "      <td>0</td>\n",
       "      <td>1</td>\n",
       "      <td>0</td>\n",
       "      <td>...</td>\n",
       "      <td>0</td>\n",
       "      <td>0</td>\n",
       "      <td>1</td>\n",
       "      <td>0</td>\n",
       "      <td>0</td>\n",
       "      <td>0</td>\n",
       "      <td>0</td>\n",
       "      <td>0</td>\n",
       "      <td>1</td>\n",
       "      <td>-inf</td>\n",
       "    </tr>\n",
       "    <tr>\n",
       "      <th>93815</th>\n",
       "      <td>0.0</td>\n",
       "      <td>False</td>\n",
       "      <td>-0.120313</td>\n",
       "      <td>0.988364</td>\n",
       "      <td>1.403494</td>\n",
       "      <td>-1.860361</td>\n",
       "      <td>1.045014</td>\n",
       "      <td>0</td>\n",
       "      <td>1</td>\n",
       "      <td>0</td>\n",
       "      <td>...</td>\n",
       "      <td>0</td>\n",
       "      <td>0</td>\n",
       "      <td>1</td>\n",
       "      <td>0</td>\n",
       "      <td>0</td>\n",
       "      <td>0</td>\n",
       "      <td>0</td>\n",
       "      <td>0</td>\n",
       "      <td>1</td>\n",
       "      <td>-inf</td>\n",
       "    </tr>\n",
       "    <tr>\n",
       "      <th>95030</th>\n",
       "      <td>0.0</td>\n",
       "      <td>False</td>\n",
       "      <td>-0.120313</td>\n",
       "      <td>-0.654901</td>\n",
       "      <td>0.944740</td>\n",
       "      <td>-1.840682</td>\n",
       "      <td>0.423451</td>\n",
       "      <td>0</td>\n",
       "      <td>1</td>\n",
       "      <td>0</td>\n",
       "      <td>...</td>\n",
       "      <td>0</td>\n",
       "      <td>0</td>\n",
       "      <td>0</td>\n",
       "      <td>1</td>\n",
       "      <td>0</td>\n",
       "      <td>0</td>\n",
       "      <td>0</td>\n",
       "      <td>0</td>\n",
       "      <td>0</td>\n",
       "      <td>-inf</td>\n",
       "    </tr>\n",
       "  </tbody>\n",
       "</table>\n",
       "<p>16 rows × 128 columns</p>\n",
       "</div>"
      ],
      "text/plain": [
       "       Weekly_Sales  IsHoliday      Size  Temperature  Fuel_Price       CPI  \\\n",
       "4132            0.0      False  0.283436    -0.656619    0.454191  0.487240   \n",
       "5691            0.0      False  0.283436     1.474811    0.860711  0.528765   \n",
       "5762            0.0      False  0.283436     1.427828    0.669942  0.530529   \n",
       "10732           0.0      False  1.113495    -0.601615   -1.224123  0.397294   \n",
       "18449           0.0      False  1.113495     0.175326    1.435289  0.682742   \n",
       "28855           0.0      False -1.571027     1.280003    0.708550  0.805184   \n",
       "49063           0.0      False  1.116718    -1.026755   -1.585221  0.452078   \n",
       "62459           0.0      False -1.028620    -2.270089   -0.649544 -0.138876   \n",
       "63877           0.0      False -1.028620    -0.929924    0.994703 -0.101920   \n",
       "74417           0.0      False  0.344691     1.127021    0.599539  0.626770   \n",
       "86380           0.0      False -0.131365     0.918462    0.197561  0.805010   \n",
       "87716           0.0      False -0.120313    -0.389618   -0.781266 -1.945919   \n",
       "88836           0.0      False -0.120313     1.019877   -0.722218 -1.956760   \n",
       "92076           0.0      False -0.120313    -0.227468    1.884959 -1.879678   \n",
       "93815           0.0      False -0.120313     0.988364    1.403494 -1.860361   \n",
       "95030           0.0      False -0.120313    -0.654901    0.944740 -1.840682   \n",
       "\n",
       "       Unemployment  Store_1  Store_10  Store_2        ...         \\\n",
       "4132       0.595428        1         0        0        ...          \n",
       "5691       0.787484        1         0        0        ...          \n",
       "5762       0.787484        1         0        0        ...          \n",
       "10732      1.103504        0         0        1        ...          \n",
       "18449     -0.147479        0         0        1        ...          \n",
       "28855     -0.633729        0         0        0        ...          \n",
       "49063      0.173779        0         0        0        ...          \n",
       "62459      1.534756        0         0        0        ...          \n",
       "63877      1.340081        0         0        0        ...          \n",
       "74417     -0.554288        0         0        0        ...          \n",
       "86380     -1.327749        0         0        0        ...          \n",
       "87716      2.361469        0         1        0        ...          \n",
       "88836      2.151081        0         1        0        ...          \n",
       "92076      1.251910        0         1        0        ...          \n",
       "93815      1.045014        0         1        0        ...          \n",
       "95030      0.423451        0         1        0        ...          \n",
       "\n",
       "       binned_markdown_4_61-80%  binned_markdown_4_81-100%  \\\n",
       "4132                          0                          0   \n",
       "5691                          0                          0   \n",
       "5762                          0                          0   \n",
       "10732                         0                          0   \n",
       "18449                         0                          0   \n",
       "28855                         0                          0   \n",
       "49063                         0                          0   \n",
       "62459                         0                          0   \n",
       "63877                         0                          0   \n",
       "74417                         0                          0   \n",
       "86380                         0                          0   \n",
       "87716                         0                          0   \n",
       "88836                         0                          0   \n",
       "92076                         0                          0   \n",
       "93815                         0                          0   \n",
       "95030                         0                          0   \n",
       "\n",
       "       binned_markdown_4_NaN  binned_markdown_5_0-20%  \\\n",
       "4132                       1                        0   \n",
       "5691                       1                        0   \n",
       "5762                       1                        0   \n",
       "10732                      1                        0   \n",
       "18449                      0                        1   \n",
       "28855                      0                        1   \n",
       "49063                      1                        0   \n",
       "62459                      1                        0   \n",
       "63877                      1                        0   \n",
       "74417                      1                        0   \n",
       "86380                      0                        1   \n",
       "87716                      1                        0   \n",
       "88836                      1                        0   \n",
       "92076                      1                        0   \n",
       "93815                      1                        0   \n",
       "95030                      0                        1   \n",
       "\n",
       "       binned_markdown_5_21-40%  binned_markdown_5_41-60%  \\\n",
       "4132                          0                         0   \n",
       "5691                          0                         0   \n",
       "5762                          0                         0   \n",
       "10732                         0                         0   \n",
       "18449                         0                         0   \n",
       "28855                         0                         0   \n",
       "49063                         0                         0   \n",
       "62459                         0                         0   \n",
       "63877                         0                         0   \n",
       "74417                         0                         0   \n",
       "86380                         0                         0   \n",
       "87716                         0                         0   \n",
       "88836                         0                         0   \n",
       "92076                         0                         0   \n",
       "93815                         0                         0   \n",
       "95030                         0                         0   \n",
       "\n",
       "       binned_markdown_5_61-80%  binned_markdown_5_81-100%  \\\n",
       "4132                          0                          0   \n",
       "5691                          0                          0   \n",
       "5762                          0                          0   \n",
       "10732                         0                          0   \n",
       "18449                         0                          0   \n",
       "28855                         0                          0   \n",
       "49063                         0                          0   \n",
       "62459                         0                          0   \n",
       "63877                         0                          0   \n",
       "74417                         0                          0   \n",
       "86380                         0                          0   \n",
       "87716                         0                          0   \n",
       "88836                         0                          0   \n",
       "92076                         0                          0   \n",
       "93815                         0                          0   \n",
       "95030                         0                          0   \n",
       "\n",
       "       binned_markdown_5_NaN  log_Weekly_Sales  \n",
       "4132                       1              -inf  \n",
       "5691                       1              -inf  \n",
       "5762                       1              -inf  \n",
       "10732                      1              -inf  \n",
       "18449                      0              -inf  \n",
       "28855                      0              -inf  \n",
       "49063                      1              -inf  \n",
       "62459                      1              -inf  \n",
       "63877                      1              -inf  \n",
       "74417                      1              -inf  \n",
       "86380                      0              -inf  \n",
       "87716                      1              -inf  \n",
       "88836                      1              -inf  \n",
       "92076                      1              -inf  \n",
       "93815                      1              -inf  \n",
       "95030                      0              -inf  \n",
       "\n",
       "[16 rows x 128 columns]"
      ]
     },
     "execution_count": 98,
     "metadata": {},
     "output_type": "execute_result"
    }
   ],
   "source": [
    "df.loc[df['Weekly_Sales'] <= 0]"
   ]
  },
  {
   "cell_type": "markdown",
   "metadata": {},
   "source": [
    "This seems negligibe considering we have almost 100,000 observations. Let's remove these 224 rows so we can take the log."
   ]
  },
  {
   "cell_type": "code",
   "execution_count": 99,
   "metadata": {},
   "outputs": [],
   "source": [
    "row = df.loc[df['Weekly_Sales'] <= 0]\n",
    "label = list(row.index)"
   ]
  },
  {
   "cell_type": "code",
   "execution_count": 100,
   "metadata": {},
   "outputs": [],
   "source": [
    "df.drop(label, axis = 0, inplace = True)"
   ]
  },
  {
   "cell_type": "markdown",
   "metadata": {},
   "source": [
    "Let's have another look at the histogram. What do you see?"
   ]
  },
  {
   "cell_type": "code",
   "execution_count": 101,
   "metadata": {},
   "outputs": [
    {
     "data": {
      "text/plain": [
       "<matplotlib.axes._subplots.AxesSubplot at 0x11ac40cf8>"
      ]
     },
     "execution_count": 101,
     "metadata": {},
     "output_type": "execute_result"
    },
    {
     "data": {
      "image/png": "[encoded data removed]",
      "text/plain": [
       "<Figure size 432x288 with 1 Axes>"
      ]
     },
     "metadata": {},
     "output_type": "display_data"
    }
   ],
   "source": [
    "df.Weekly_Sales.hist()"
   ]
  },
  {
   "cell_type": "markdown",
   "metadata": {},
   "source": [
    "Now let's repeat what we did before, yet now with the log(Weekly_Sales) as the target."
   ]
  },
  {
   "cell_type": "code",
   "execution_count": 136,
   "metadata": {},
   "outputs": [],
   "source": [
    "df['log_Weekly_Sales'] = np.log(df['Weekly_Sales'])"
   ]
  },
  {
   "cell_type": "code",
   "execution_count": 137,
   "metadata": {},
   "outputs": [],
   "source": [
    "obs = []\n",
    "for idx, predictor in enumerate(['Size', 'Temperature', 'Fuel_Price', 'CPI', 'Unemployment']):\n",
    "    f = 'log_Weekly_Sales' + '~' + predictor\n",
    "    model = ols(formula=f, data=df).fit()\n",
    "    obs.append([predictor, model.rsquared, model.params[0], model.params[1], model.pvalues[1]])"
   ]
  },
  {
   "cell_type": "code",
   "execution_count": 138,
   "metadata": {},
   "outputs": [
    {
     "data": {
      "text/plain": [
       "[['Size', 0.10780975018477779, 8.671485180985368, 0.6116185906202127, 0.0],\n",
       " ['Temperature',\n",
       "  0.0007654996204087272,\n",
       "  8.671603611690758,\n",
       "  0.0515690944972903,\n",
       "  5.3400172912048595e-18],\n",
       " ['Fuel_Price',\n",
       "  0.00044928127033871945,\n",
       "  8.671613962769431,\n",
       "  0.03949232656972057,\n",
       "  3.5176641775608455e-11],\n",
       " ['CPI', 0.025949085295407515, 8.671703573822903, -0.3002071974538499, 0.0],\n",
       " ['Unemployment',\n",
       "  0.00027696050787828774,\n",
       "  8.671620744194504,\n",
       "  0.03101368076921429,\n",
       "  1.9943786070646916e-07]]"
      ]
     },
     "execution_count": 138,
     "metadata": {},
     "output_type": "execute_result"
    }
   ],
   "source": [
    "obs"
   ]
  },
  {
   "cell_type": "code",
   "execution_count": null,
   "metadata": {},
   "outputs": [],
   "source": [
    "# It looks like the rsquared values for each of the predictors increased\n",
    "# I would probably use log(sales)"
   ]
  },
  {
   "cell_type": "markdown",
   "metadata": {},
   "source": [
    "- compare and contract the results with the results obtained when we did not take the log(sales)\n",
    "- Which one would you want to proceed with based on this?"
   ]
  },
  {
   "cell_type": "markdown",
   "metadata": {},
   "source": [
    "## Build a model with each categorical variable as a predictor"
   ]
  },
  {
   "cell_type": "markdown",
   "metadata": {},
   "source": [
    "- Use it on the log-transformed, and the regular `Weekly_Sales`\n",
    "- put all categories for one categorical variable in 1 model, so we want 4 models.\n",
    "- remember that we have 4 categorical variables: `Store`,  `Dept`, `IsHoliday` and `Type`( we're for now ignoring the `binned_markdown` categories, you can add then later on as an extension)\n",
    "- IMPORTANT: remember that we made dummies for `Type`, `Dept` and `Store` columns. You'll need to drop 1 column for each of these if you want good results. The reason for this is that singularity will occur and . This is related to what we mentioned earlier on in section 11. Don't worry about the \"why\" for now, just make sure to drop 1 column and you should be fine! The parameter value for the dropper \"base category\" will be absorbed in the intercept."
   ]
  },
  {
   "cell_type": "code",
   "execution_count": 119,
   "metadata": {},
   "outputs": [],
   "source": [
    "store_cols = [col for col in df.columns if 'Store' in col]\n",
    "dept_cols = [col for col in df.columns if 'Dept' in col]\n",
    "type_cols = [col for col in df.columns if 'Type' in col]\n",
    "predictors = ['Size', 'Temperature', 'Fuel_Price', 'CPI', 'Unemployment']\n"
   ]
  },
  {
   "cell_type": "code",
   "execution_count": 124,
   "metadata": {},
   "outputs": [
    {
     "name": "stdout",
     "output_type": "stream",
     "text": [
      "0.00021854588706149425\n",
      "9.985574760329463e-05\n"
     ]
    }
   ],
   "source": [
    "#IsHoliday Model\n",
    "f = 'Weekly_Sales~IsHoliday'\n",
    "f2 = 'log_Weekly_Sales~IsHoliday'\n",
    "model = ols(formula=f, data=df).fit()\n",
    "model2 = ols(formula=f2, data=df).fit()\n",
    "print(model.rsquared)\n",
    "print(model2.rsquared)"
   ]
  },
  {
   "cell_type": "code",
   "execution_count": 133,
   "metadata": {},
   "outputs": [
    {
     "name": "stdout",
     "output_type": "stream",
     "text": [
      "0.12305857479021187\n",
      "0.12790753786114784\n"
     ]
    }
   ],
   "source": [
    "# Store Model\n",
    "stores_sum = \"+\".join(store_cols[:-1])\n",
    "f3 = 'Weekly_Sales~'+stores_sum\n",
    "f4 = 'log_Weekly_Sales~'+stores_sum\n",
    "model3 = ols(formula=f3, data=df).fit()\n",
    "model4 = ols(formula=f4, data=df).fit()\n",
    "print(model3.rsquared)\n",
    "print(model4.rsquared)"
   ]
  },
  {
   "cell_type": "code",
   "execution_count": 134,
   "metadata": {},
   "outputs": [
    {
     "name": "stdout",
     "output_type": "stream",
     "text": [
      "0.5028374785033828\n",
      "0.6238520803874303\n"
     ]
    }
   ],
   "source": [
    "# Dept Model\n",
    "dept_sum = \"+\".join(dept_cols[:-1])\n",
    "f5 = 'Weekly_Sales~'+dept_sum\n",
    "f6 = 'log_Weekly_Sales~'+dept_sum\n",
    "model5 = ols(formula=f5, data=df).fit()\n",
    "model6 = ols(formula=f6, data=df).fit()\n",
    "print(model5.rsquared)\n",
    "print(model6.rsquared)"
   ]
  },
  {
   "cell_type": "code",
   "execution_count": 135,
   "metadata": {},
   "outputs": [
    {
     "name": "stdout",
     "output_type": "stream",
     "text": [
      "0.04946467116856934\n",
      "0.06757099198239724\n"
     ]
    }
   ],
   "source": [
    "# Type Model\n",
    "type_sum = \"+\".join(type_cols[:-1])\n",
    "f7 = 'Weekly_Sales~'+type_sum\n",
    "f8 = 'log_Weekly_Sales~'+type_sum\n",
    "model7 = ols(formula=f7, data=df).fit()\n",
    "model8 = ols(formula=f8, data=df).fit()\n",
    "print(model7.rsquared)\n",
    "print(model8.rsquared)"
   ]
  },
  {
   "cell_type": "markdown",
   "metadata": {},
   "source": [
    "## Let's drop a few columns in our data set based on our findings"
   ]
  },
  {
   "cell_type": "markdown",
   "metadata": {},
   "source": [
    "- Let's stick with our `walmart_log` data, as it seemed like it was generally resulting in higher R-squared values.\n",
    "- Let's drop continuous variables which resulted in single linear models with a R-squared value <0.01 for the `walmart_log models`.\n",
    "- Let's make sure to drop 1 column for each categorical variable we end up using."
   ]
  },
  {
   "cell_type": "code",
   "execution_count": null,
   "metadata": {},
   "outputs": [],
   "source": [
    "# keep = Size, CPI, Store, Dept, Type"
   ]
  },
  {
   "cell_type": "markdown",
   "metadata": {},
   "source": [
    "## From here on out, use Feature ranking with recursive feature elimination"
   ]
  },
  {
   "cell_type": "markdown",
   "metadata": {},
   "source": [
    "Let's create a matrix X and y containing the predictors and target for our model. Let's use Scikit-Learn's RFE function, documentation again [here](http://scikit-learn.org/stable/modules/classes.html#module-sklearn.feature_selection)."
   ]
  },
  {
   "cell_type": "code",
   "execution_count": 163,
   "metadata": {},
   "outputs": [],
   "source": [
    "\n",
    "X = df.drop(['IsHoliday','Temperature', 'Fuel_Price', 'Unemployment', 'Store_1', 'Type_A', 'Dept_1', 'Weekly_Sales', 'log_Weekly_Sales'], axis = 1)\n",
    "Y = df.log_Weekly_Sales\n"
   ]
  },
  {
   "cell_type": "code",
   "execution_count": 153,
   "metadata": {},
   "outputs": [],
   "source": [
    "from sklearn.datasets import make_friedman1\n",
    "from sklearn.feature_selection import RFE\n",
    "from sklearn.linear_model import LinearRegression\n",
    "\n",
    "X = ['Size', 'CPI']\n",
    "for store in store_cols:\n",
    "    X.append(store)\n",
    "for dept in dept_cols:\n",
    "    X.append(dept)\n",
    "for typ in type_cols:\n",
    "    X.append(typ)\n",
    "\n",
    "Y = 'log_Weekly_Sales'"
   ]
  },
  {
   "cell_type": "markdown",
   "metadata": {},
   "source": [
    "Let's create a for loop using `RFE` where we look at the 5, 15, 25,... up until 85 best features to be selected according to the feature ranking algorithm. Store the R-squared and the adjusted-R-squareds for all these models in a list. What do you see? No need to perform a train-test-split for now- that will be next!"
   ]
  },
  {
   "cell_type": "code",
   "execution_count": 180,
   "metadata": {},
   "outputs": [],
   "source": [
    "linreg = LinearRegression()\n",
    "obs = []\n",
    "for i in range(5,85,5):\n",
    "    selector = RFE(linreg, n_features_to_select = i)\n",
    "    selector = selector.fit(X, Y)\n",
    "    selected_columns = X.columns[selector.support_ ]\n",
    "    linreg.fit(X[selected_columns],Y)\n",
    "    LinearRegression(copy_X=True, fit_intercept=True, n_jobs=1, normalize=False)\n",
    "    yhat = linreg.predict(X[selected_columns])\n",
    "    SS_Residual = np.sum((Y-yhat)**2)\n",
    "    SS_Total = np.sum((Y-np.mean(Y))**2)\n",
    "    r_squared = 1 - (float(SS_Residual))/SS_Total\n",
    "    adjusted_r_squared = 1 - (1-r_squared)*(len(Y)-1)/(len(Y)-X.shape[1]-1)\n",
    "    obs.append([i, r_squared, adjusted_r_squared])"
   ]
  },
  {
   "cell_type": "code",
   "execution_count": 181,
   "metadata": {},
   "outputs": [
    {
     "data": {
      "text/plain": [
       "[[5, 0.0010124676150199408, -0.000206872006025538],\n",
       " [10, 0.0028633261823325373, 0.0016462456737494913],\n",
       " [15, 0.0033855107534359608, 0.0021690676105020623],\n",
       " [20, 0.0037986569005481474, 0.0025827180336438493],\n",
       " [25, 0.004663279931796049, 0.0034483964025061598],\n",
       " [30, 0.015243574044421782, 0.014041604562000098],\n",
       " [35, 0.11794231619078499, 0.11686569826808857],\n",
       " [40, 0.1279921475617367, 0.1269277962161276],\n",
       " [45, 0.2326690562762187, 0.23173247099181293],\n",
       " [50, 0.40460164849192926, 0.4038749199024687],\n",
       " [55, 0.5053346392995912, 0.5047308629221016],\n",
       " [60, 0.5793548686687096, 0.5788414395633357],\n",
       " [65, 0.628016811623636, 0.6275627780894364],\n",
       " [70, 0.6689535728912279, 0.6685495057613655],\n",
       " [75, 0.7004369506762573, 0.7000713113832728],\n",
       " [80, 0.724432723634125, 0.7240963729916559]]"
      ]
     },
     "execution_count": 181,
     "metadata": {},
     "output_type": "execute_result"
    }
   ],
   "source": [
    "obs"
   ]
  },
  {
   "cell_type": "markdown",
   "metadata": {},
   "source": [
    "The difference between $R^2$ and adjusted $R^2$ is negligible, and seems to continue to be going up as we include more features. Remember though that we're likely overfitting when including 85 features. In order to identify this, let's rerun a similar experiment, but using a train test split!"
   ]
  },
  {
   "cell_type": "markdown",
   "metadata": {},
   "source": [
    "## Including a train-test-split"
   ]
  },
  {
   "cell_type": "markdown",
   "metadata": {},
   "source": [
    "Let's create a similar for loop to what we did before. Except, this time\n",
    "- Use a train test split of 20-80\n",
    "- Instead of looking at $R^2$ and $R^2_{adj}$, look at the MSE for train and test"
   ]
  },
  {
   "cell_type": "code",
   "execution_count": 185,
   "metadata": {},
   "outputs": [],
   "source": [
    "from sklearn.model_selection import train_test_split\n",
    "from sklearn.metrics import mean_squared_error\n",
    "\n",
    "\n",
    "obs = []\n",
    "for i in range(5,85,5):\n",
    "    selector = RFE(linreg, n_features_to_select = i)\n",
    "    selector = selector.fit(X, Y)\n",
    "    selected_columns = X.columns[selector.support_ ]\n",
    "    X_train, X_test, y_train, y_test = train_test_split(X[selected_columns], Y, test_size = 0.2)\n",
    "    linreg.fit(X_train, y_train)\n",
    "    y_hat_train = linreg.predict(X_train)\n",
    "    y_hat_test = linreg.predict(X_test)\n",
    "    train_mse = mean_squared_error(y_train, y_hat_train)\n",
    "    test_mse = mean_squared_error(y_test, y_hat_test)\n",
    "    obs.append([i, train_mse, test_mse])"
   ]
  },
  {
   "cell_type": "code",
   "execution_count": 186,
   "metadata": {},
   "outputs": [
    {
     "data": {
      "text/plain": [
       "[[5, 3.4629225580191942, 3.4886987445364253],\n",
       " [10, 3.458817265978414, 3.4728041866305372],\n",
       " [15, 3.4769273717280935, 3.3912593363580714],\n",
       " [20, 3.457404389920303, 3.462700157669217],\n",
       " [25, 3.4568895539632267, 3.4503018175650833],\n",
       " [30, 3.403099474584585, 3.491512439672026],\n",
       " [35, 3.0584395992536813, 3.0833639962734423],\n",
       " [40, 3.0284788474308346, 3.020597168046006],\n",
       " [45, 2.667521385156581, 2.6524475834488537],\n",
       " [50, 2.051852452018229, 2.1281400215406396],\n",
       " [55, 1.717535546568544, 1.717207093197275],\n",
       " [60, 1.452769450977864, 1.4914836933577929],\n",
       " [65, 1.2957741634283437, 1.273970765582319],\n",
       " [70, 1.1410584704617355, 1.1831713062359461],\n",
       " [75, 1.0369355438844912, 1.0525684801432222],\n",
       " [80, 0.9533437160600956, 0.9705959962668628]]"
      ]
     },
     "execution_count": 186,
     "metadata": {},
     "output_type": "execute_result"
    }
   ],
   "source": [
    "obs"
   ]
  },
  {
   "cell_type": "markdown",
   "metadata": {},
   "source": [
    "What we see is that both MSE keeps improving when we add variables. It seems like a bigger model improves our performance, and the test and train performance don't really diverge. It is important to note however that is not an unusual result. The performance measures used typically will show this type of behavior. In order to really be able to balance the curse of dimensionality (which will become more important in machine learning), we need other information criteria such as AIC and BIC. You'll learn about them later! Now, let's perform cross-validation on our model with 85 predictors!"
   ]
  },
  {
   "cell_type": "markdown",
   "metadata": {},
   "source": [
    "## 10-fold cross validation with the final model"
   ]
  },
  {
   "cell_type": "markdown",
   "metadata": {},
   "source": [
    "Create a 10-fold cross-validation and store the (negative) MSEs "
   ]
  },
  {
   "cell_type": "code",
   "execution_count": 191,
   "metadata": {},
   "outputs": [],
   "source": [
    "selector = RFE(linreg, n_features_to_select = 85)\n",
    "selector = selector.fit(X, Y)\n",
    "selected_columns = X.columns[selector.support_ ]"
   ]
  },
  {
   "cell_type": "code",
   "execution_count": 193,
   "metadata": {},
   "outputs": [
    {
     "data": {
      "text/plain": [
       "array([-3.48669131e+21, -1.84224894e+22, -1.14633436e+00, -2.48377903e+20,\n",
       "       -1.76983677e+24, -6.37414450e-01, -1.58789471e+23, -6.95190114e-01,\n",
       "       -1.79965121e+23, -5.53094465e+22])"
      ]
     },
     "execution_count": 193,
     "metadata": {},
     "output_type": "execute_result"
    }
   ],
   "source": [
    "from sklearn.model_selection import cross_val_score\n",
    "cv_10_results = (cross_val_score(linreg, X[selected_columns], Y, cv=10, scoring=\"neg_mean_squared_error\"))\n",
    "cv_10_results"
   ]
  },
  {
   "cell_type": "markdown",
   "metadata": {},
   "source": [
    "Running our 10-fold cross-validation highlights some issues for sure! Have a look at your list of 10 MSEs. Where most MSEs are manageable, some are very high. The cure of dimensionality is already pretty clear here. The issue is that we have many (dummy) categorical variables that result in columns with many zeroes and few ones. This means that for some folds, there is a risk of ending up with columns that almost exclusively contain 0's for prediction, which might cause weird results. Looking at this, a model with less predictors might make sense again. This is where we conclude for now. It's up to you now to explore other model options! Additionally, it is encouraged to try some of the \"level up\" exercises below. Good luck!"
   ]
  },
  {
   "cell_type": "markdown",
   "metadata": {},
   "source": [
    "# Level up - Optional\n",
    "\n",
    "\n",
    "- You could argue that **throwing out negative sales figures is problematic**, because these are probably the types of observations a stakeholder would be very interested in knowing. Repeat your analysis, but now, instead of removing the rows with negative sales, replace their sales with a slightly positive value (eg. 1), so they have an existing and finite value. Does the result change?\n",
    "\n",
    "- Go back and log-transform `CPI` and `Size` before standardizing it (we did this a few lessons ago). Look at the histogram and see if there is an improvement.\n",
    "- You might have noticed we ignored `binned_markdown` throughout. Add it in the model and see how it changes the results!\n",
    "\n",
    "- Try other feature selection methods such as stepwise selection and forward selection seen in section 11.\n"
   ]
  },
  {
   "cell_type": "markdown",
   "metadata": {},
   "source": [
    "## Summary"
   ]
  },
  {
   "cell_type": "markdown",
   "metadata": {},
   "source": [
    "Congratulations, you made it to the end of the last section in this module. Now it's time for a big project on multiple linear regression!"
   ]
  }
 ],
 "metadata": {
  "kernelspec": {
   "display_name": "Python 3",
   "language": "python",
   "name": "python3"
  },
  "language_info": {
   "codemirror_mode": {
    "name": "ipython",
    "version": 3
   },
   "file_extension": ".py",
   "mimetype": "text/x-python",
   "name": "python",
   "nbconvert_exporter": "python",
   "pygments_lexer": "ipython3",
   "version": "3.6.5"
  }
 },
 "nbformat": 4,
 "nbformat_minor": 2
}
